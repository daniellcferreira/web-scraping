{
 "cells": [
  {
   "cell_type": "code",
   "execution_count": 1,
   "metadata": {},
   "outputs": [],
   "source": [
    "from bs4 import BeautifulSoup"
   ]
  },
  {
   "cell_type": "code",
   "execution_count": 2,
   "metadata": {},
   "outputs": [],
   "source": [
    "html = \"\"\"\n",
    "<!DOCTYPE html>\n",
    "<html lang=\"pt-br\">\n",
    "  <head>\n",
    "    <meta charset=\"UTF-8\" />\n",
    "    <meta name=\"viewport\" content=\"width=device-width, initial-scale=1.0\" />\n",
    "    <title>Web Scraping Ada</title>\n",
    "  </head>\n",
    "  <body>\n",
    "    <h1>Essa é aula 02 de Web Scraping da Ada</h1>\n",
    "    <h3>esse é um subtitulo</h3>\n",
    "    <p>esse é um paragrafo</p>\n",
    "    <p>esse é outro paragrafo</p>\n",
    "\n",
    "    <ul>\n",
    "      <li>item 1</li>\n",
    "      <li>item 2</li>\n",
    "    </ul>\n",
    "\n",
    "    <ol>\n",
    "      <li>Primeiro item</li>\n",
    "      <li>Segundo item</li>\n",
    "    </ol>\n",
    "  </body>\n",
    "</html>\n",
    "\"\"\"\n",
    "\n",
    "html_parsed = BeautifulSoup(html, \"html.parser\")"
   ]
  },
  {
   "cell_type": "code",
   "execution_count": 3,
   "metadata": {},
   "outputs": [
    {
     "data": {
      "text/plain": [
       "\n",
       "<!DOCTYPE html>\n",
       "\n",
       "<html lang=\"pt-br\">\n",
       "<head>\n",
       "<meta charset=\"utf-8\"/>\n",
       "<meta content=\"width=device-width, initial-scale=1.0\" name=\"viewport\"/>\n",
       "<title>Web Scraping Ada</title>\n",
       "</head>\n",
       "<body>\n",
       "<h1>Essa é aula 02 de Web Scraping da Ada</h1>\n",
       "<h3>esse é um subtitulo</h3>\n",
       "<p>esse é um paragrafo</p>\n",
       "<p>esse é outro paragrafo</p>\n",
       "<ul>\n",
       "<li>item 1</li>\n",
       "<li>item 2</li>\n",
       "</ul>\n",
       "<ol>\n",
       "<li>Primeiro item</li>\n",
       "<li>Segundo item</li>\n",
       "</ol>\n",
       "</body>\n",
       "</html>"
      ]
     },
     "execution_count": 3,
     "metadata": {},
     "output_type": "execute_result"
    }
   ],
   "source": [
    "html_parsed"
   ]
  },
  {
   "cell_type": "code",
   "execution_count": 4,
   "metadata": {},
   "outputs": [
    {
     "name": "stdout",
     "output_type": "stream",
     "text": [
      "<!DOCTYPE html>\n",
      "<html lang=\"pt-br\">\n",
      " <head>\n",
      "  <meta charset=\"utf-8\"/>\n",
      "  <meta content=\"width=device-width, initial-scale=1.0\" name=\"viewport\"/>\n",
      "  <title>\n",
      "   Web Scraping Ada\n",
      "  </title>\n",
      " </head>\n",
      " <body>\n",
      "  <h1>\n",
      "   Essa é aula 02 de Web Scraping da Ada\n",
      "  </h1>\n",
      "  <h3>\n",
      "   esse é um subtitulo\n",
      "  </h3>\n",
      "  <p>\n",
      "   esse é um paragrafo\n",
      "  </p>\n",
      "  <p>\n",
      "   esse é outro paragrafo\n",
      "  </p>\n",
      "  <ul>\n",
      "   <li>\n",
      "    item 1\n",
      "   </li>\n",
      "   <li>\n",
      "    item 2\n",
      "   </li>\n",
      "  </ul>\n",
      "  <ol>\n",
      "   <li>\n",
      "    Primeiro item\n",
      "   </li>\n",
      "   <li>\n",
      "    Segundo item\n",
      "   </li>\n",
      "  </ol>\n",
      " </body>\n",
      "</html>\n",
      "\n"
     ]
    }
   ],
   "source": [
    "print(html_parsed.prettify())"
   ]
  },
  {
   "cell_type": "code",
   "execution_count": 5,
   "metadata": {},
   "outputs": [
    {
     "data": {
      "text/plain": [
       "<h1>Essa é aula 02 de Web Scraping da Ada</h1>"
      ]
     },
     "execution_count": 5,
     "metadata": {},
     "output_type": "execute_result"
    }
   ],
   "source": [
    "# metodo find()\n",
    "\n",
    "html_parsed.find(\"h1\")"
   ]
  },
  {
   "cell_type": "code",
   "execution_count": 6,
   "metadata": {},
   "outputs": [
    {
     "data": {
      "text/plain": [
       "[<p>esse é um paragrafo</p>, <p>esse é outro paragrafo</p>]"
      ]
     },
     "execution_count": 6,
     "metadata": {},
     "output_type": "execute_result"
    }
   ],
   "source": [
    "# metodo find_all()\n",
    "\n",
    "html_parsed.find_all(\"p\")"
   ]
  }
 ],
 "metadata": {
  "kernelspec": {
   "display_name": "Python 3",
   "language": "python",
   "name": "python3"
  },
  "language_info": {
   "codemirror_mode": {
    "name": "ipython",
    "version": 3
   },
   "file_extension": ".py",
   "mimetype": "text/x-python",
   "name": "python",
   "nbconvert_exporter": "python",
   "pygments_lexer": "ipython3",
   "version": "3.12.2"
  }
 },
 "nbformat": 4,
 "nbformat_minor": 2
}
